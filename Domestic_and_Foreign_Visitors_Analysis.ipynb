{
 "cells": [
  {
   "cell_type": "code",
   "execution_count": 23,
   "id": "6f439471",
   "metadata": {},
   "outputs": [],
   "source": [
    "import pandas as pd\n",
    "import numpy as np\n",
    "import matplotlib.pyplot as plt\n",
    "import seaborn as sns"
   ]
  },
  {
   "cell_type": "code",
   "execution_count": 5,
   "id": "387dadf1",
   "metadata": {},
   "outputs": [],
   "source": [
    "df=pd.read_excel('FV.xlsx')\n",
    "\n"
   ]
  },
  {
   "cell_type": "code",
   "execution_count": 6,
   "id": "c3d231aa",
   "metadata": {},
   "outputs": [
    {
     "data": {
      "text/plain": [
       "(1512, 5)"
      ]
     },
     "execution_count": 6,
     "metadata": {},
     "output_type": "execute_result"
    }
   ],
   "source": [
    "df.shape"
   ]
  },
  {
   "cell_type": "code",
   "execution_count": 7,
   "id": "99cfaac6",
   "metadata": {},
   "outputs": [
    {
     "data": {
      "text/plain": [
       "district    0\n",
       "date        0\n",
       "month       0\n",
       "year        0\n",
       "visitors    0\n",
       "dtype: int64"
      ]
     },
     "execution_count": 7,
     "metadata": {},
     "output_type": "execute_result"
    }
   ],
   "source": [
    "df.isnull().sum()"
   ]
  },
  {
   "cell_type": "code",
   "execution_count": null,
   "id": "3c434979",
   "metadata": {},
   "outputs": [],
   "source": []
  },
  {
   "cell_type": "code",
   "execution_count": 8,
   "id": "4031df71",
   "metadata": {},
   "outputs": [
    {
     "data": {
      "text/plain": [
       "district    object\n",
       "date        object\n",
       "month       object\n",
       "year         int64\n",
       "visitors     int64\n",
       "dtype: object"
      ]
     },
     "execution_count": 8,
     "metadata": {},
     "output_type": "execute_result"
    }
   ],
   "source": [
    "df.dtypes"
   ]
  },
  {
   "cell_type": "code",
   "execution_count": 9,
   "id": "64cad9a9",
   "metadata": {},
   "outputs": [
    {
     "name": "stdout",
     "output_type": "stream",
     "text": [
      "             district        date      month  year  visitors\n",
      "0            Adilabad  01-01-2016    January  2016         2\n",
      "1            Adilabad  01-02-2016   February  2016         0\n",
      "2            Adilabad  01-03-2016      March  2016         2\n",
      "3            Adilabad  01-04-2016      April  2016         0\n",
      "4            Adilabad  01-05-2016        May  2016         0\n",
      "...               ...         ...        ...   ...       ...\n",
      "1507  Yadadri Bhongir  01-08-2019     August  2019         0\n",
      "1508  Yadadri Bhongir  01-09-2019  September  2019         0\n",
      "1509  Yadadri Bhongir  01-10-2019    October  2019         0\n",
      "1510  Yadadri Bhongir  01-11-2019   November  2019         0\n",
      "1511  Yadadri Bhongir  01-12-2019   December  2019         0\n",
      "\n",
      "[1512 rows x 5 columns]\n"
     ]
    }
   ],
   "source": [
    "df['visitors'] = pd.to_numeric(df['visitors'], errors='coerce')\n",
    "df['visitors'] = df['visitors'].astype('Int64')\n",
    "\n",
    "print(df)"
   ]
  },
  {
   "cell_type": "code",
   "execution_count": 10,
   "id": "ff38fcd7",
   "metadata": {},
   "outputs": [
    {
     "data": {
      "text/plain": [
       "district    object\n",
       "date        object\n",
       "month       object\n",
       "year         int64\n",
       "visitors     Int64\n",
       "dtype: object"
      ]
     },
     "execution_count": 10,
     "metadata": {},
     "output_type": "execute_result"
    }
   ],
   "source": [
    "df.dtypes"
   ]
  },
  {
   "cell_type": "code",
   "execution_count": 32,
   "id": "43a8b4ca",
   "metadata": {},
   "outputs": [
    {
     "data": {
      "text/html": [
       "<div>\n",
       "<style scoped>\n",
       "    .dataframe tbody tr th:only-of-type {\n",
       "        vertical-align: middle;\n",
       "    }\n",
       "\n",
       "    .dataframe tbody tr th {\n",
       "        vertical-align: top;\n",
       "    }\n",
       "\n",
       "    .dataframe thead th {\n",
       "        text-align: right;\n",
       "    }\n",
       "</style>\n",
       "<table border=\"1\" class=\"dataframe\">\n",
       "  <thead>\n",
       "    <tr style=\"text-align: right;\">\n",
       "      <th></th>\n",
       "      <th>district</th>\n",
       "      <th>visitors</th>\n",
       "    </tr>\n",
       "  </thead>\n",
       "  <tbody>\n",
       "    <tr>\n",
       "      <th>2</th>\n",
       "      <td>Hyderabad</td>\n",
       "      <td>1044898</td>\n",
       "    </tr>\n",
       "    <tr>\n",
       "      <th>31</th>\n",
       "      <td>Warangal (Urban)</td>\n",
       "      <td>8821</td>\n",
       "    </tr>\n",
       "    <tr>\n",
       "      <th>12</th>\n",
       "      <td>Mahbubnagar</td>\n",
       "      <td>2282</td>\n",
       "    </tr>\n",
       "    <tr>\n",
       "      <th>5</th>\n",
       "      <td>Jayashankar Bhoopalpally</td>\n",
       "      <td>1252</td>\n",
       "    </tr>\n",
       "    <tr>\n",
       "      <th>6</th>\n",
       "      <td>Jogulamba Gadwal</td>\n",
       "      <td>945</td>\n",
       "    </tr>\n",
       "    <tr>\n",
       "      <th>17</th>\n",
       "      <td>Nagarkurnool</td>\n",
       "      <td>761</td>\n",
       "    </tr>\n",
       "    <tr>\n",
       "      <th>16</th>\n",
       "      <td>Mulugu</td>\n",
       "      <td>575</td>\n",
       "    </tr>\n",
       "    <tr>\n",
       "      <th>30</th>\n",
       "      <td>Warangal (Rural)</td>\n",
       "      <td>306</td>\n",
       "    </tr>\n",
       "    <tr>\n",
       "      <th>0</th>\n",
       "      <td>Adilabad</td>\n",
       "      <td>32</td>\n",
       "    </tr>\n",
       "    <tr>\n",
       "      <th>13</th>\n",
       "      <td>Mancherial</td>\n",
       "      <td>10</td>\n",
       "    </tr>\n",
       "    <tr>\n",
       "      <th>21</th>\n",
       "      <td>Nizamabad</td>\n",
       "      <td>5</td>\n",
       "    </tr>\n",
       "    <tr>\n",
       "      <th>19</th>\n",
       "      <td>Narayanpet</td>\n",
       "      <td>5</td>\n",
       "    </tr>\n",
       "    <tr>\n",
       "      <th>4</th>\n",
       "      <td>Jangaon</td>\n",
       "      <td>2</td>\n",
       "    </tr>\n",
       "    <tr>\n",
       "      <th>20</th>\n",
       "      <td>Nirmal</td>\n",
       "      <td>2</td>\n",
       "    </tr>\n",
       "    <tr>\n",
       "      <th>23</th>\n",
       "      <td>Rajanna Sircilla</td>\n",
       "      <td>0</td>\n",
       "    </tr>\n",
       "    <tr>\n",
       "      <th>3</th>\n",
       "      <td>Jagtial</td>\n",
       "      <td>0</td>\n",
       "    </tr>\n",
       "    <tr>\n",
       "      <th>29</th>\n",
       "      <td>Wanaparthy</td>\n",
       "      <td>0</td>\n",
       "    </tr>\n",
       "    <tr>\n",
       "      <th>28</th>\n",
       "      <td>Vikarabad</td>\n",
       "      <td>0</td>\n",
       "    </tr>\n",
       "    <tr>\n",
       "      <th>27</th>\n",
       "      <td>Suryapet</td>\n",
       "      <td>0</td>\n",
       "    </tr>\n",
       "    <tr>\n",
       "      <th>26</th>\n",
       "      <td>Siddipet</td>\n",
       "      <td>0</td>\n",
       "    </tr>\n",
       "    <tr>\n",
       "      <th>25</th>\n",
       "      <td>Sangareddy</td>\n",
       "      <td>0</td>\n",
       "    </tr>\n",
       "    <tr>\n",
       "      <th>24</th>\n",
       "      <td>Ranga Reddy</td>\n",
       "      <td>0</td>\n",
       "    </tr>\n",
       "    <tr>\n",
       "      <th>9</th>\n",
       "      <td>Khammam</td>\n",
       "      <td>0</td>\n",
       "    </tr>\n",
       "    <tr>\n",
       "      <th>22</th>\n",
       "      <td>Peddapalli</td>\n",
       "      <td>0</td>\n",
       "    </tr>\n",
       "    <tr>\n",
       "      <th>10</th>\n",
       "      <td>Komaram Bheem Asifabad</td>\n",
       "      <td>0</td>\n",
       "    </tr>\n",
       "    <tr>\n",
       "      <th>18</th>\n",
       "      <td>Nalgonda</td>\n",
       "      <td>0</td>\n",
       "    </tr>\n",
       "    <tr>\n",
       "      <th>7</th>\n",
       "      <td>Kamareddy</td>\n",
       "      <td>0</td>\n",
       "    </tr>\n",
       "    <tr>\n",
       "      <th>1</th>\n",
       "      <td>Bhadradri Kothagudem</td>\n",
       "      <td>0</td>\n",
       "    </tr>\n",
       "    <tr>\n",
       "      <th>15</th>\n",
       "      <td>Medchal</td>\n",
       "      <td>0</td>\n",
       "    </tr>\n",
       "    <tr>\n",
       "      <th>14</th>\n",
       "      <td>Medak</td>\n",
       "      <td>0</td>\n",
       "    </tr>\n",
       "    <tr>\n",
       "      <th>8</th>\n",
       "      <td>Karimnagar</td>\n",
       "      <td>0</td>\n",
       "    </tr>\n",
       "    <tr>\n",
       "      <th>11</th>\n",
       "      <td>Mahabubabad</td>\n",
       "      <td>0</td>\n",
       "    </tr>\n",
       "    <tr>\n",
       "      <th>32</th>\n",
       "      <td>Yadadri Bhongir</td>\n",
       "      <td>0</td>\n",
       "    </tr>\n",
       "  </tbody>\n",
       "</table>\n",
       "</div>"
      ],
      "text/plain": [
       "                    district  visitors\n",
       "2                  Hyderabad   1044898\n",
       "31          Warangal (Urban)      8821\n",
       "12               Mahbubnagar      2282\n",
       "5   Jayashankar Bhoopalpally      1252\n",
       "6          Jogulamba Gadwal        945\n",
       "17             Nagarkurnool        761\n",
       "16                    Mulugu       575\n",
       "30          Warangal (Rural)       306\n",
       "0                   Adilabad        32\n",
       "13                Mancherial        10\n",
       "21                 Nizamabad         5\n",
       "19                Narayanpet         5\n",
       "4                   Jangaon          2\n",
       "20                    Nirmal         2\n",
       "23         Rajanna Sircilla          0\n",
       "3                   Jagtial          0\n",
       "29               Wanaparthy          0\n",
       "28                 Vikarabad         0\n",
       "27                  Suryapet         0\n",
       "26                  Siddipet         0\n",
       "25               Sangareddy          0\n",
       "24               Ranga Reddy         0\n",
       "9                    Khammam         0\n",
       "22                Peddapalli         0\n",
       "10    Komaram Bheem Asifabad         0\n",
       "18                  Nalgonda         0\n",
       "7                 Kamareddy          0\n",
       "1      Bhadradri Kothagudem          0\n",
       "15                  Medchal          0\n",
       "14                    Medak          0\n",
       "8                Karimnagar          0\n",
       "11              Mahabubabad          0\n",
       "32           Yadadri Bhongir         0"
      ]
     },
     "execution_count": 32,
     "metadata": {},
     "output_type": "execute_result"
    }
   ],
   "source": [
    "gfv=df.groupby(['district'])['visitors'].sum().reset_index().sort_values(by='visitors',ascending=False)\n",
    "gfv"
   ]
  },
  {
   "cell_type": "code",
   "execution_count": 13,
   "id": "adaa2b95",
   "metadata": {},
   "outputs": [
    {
     "data": {
      "text/plain": [
       "district\n",
       "Hyderabad                   1044898\n",
       "Warangal (Urban)               8821\n",
       "Mahbubnagar                    2282\n",
       "Jayashankar Bhoopalpally       1252\n",
       "Jogulamba Gadwal                945\n",
       "Nagarkurnool                    761\n",
       "Mulugu                          575\n",
       "Warangal (Rural)                306\n",
       "Adilabad                         32\n",
       "Mancherial                       10\n",
       "Narayanpet                        5\n",
       "Nizamabad                         5\n",
       "Jangaon                           2\n",
       "Nirmal                            2\n",
       "Peddapalli                        0\n",
       "Mahabubabad                       0\n",
       "Karimnagar                        0\n",
       "Medak                             0\n",
       "Medchal                           0\n",
       "Bhadradri Kothagudem              0\n",
       "Kamareddy                         0\n",
       "Nalgonda                          0\n",
       "Komaram Bheem Asifabad            0\n",
       "Wanaparthy                        0\n",
       "Khammam                           0\n",
       "Ranga Reddy                       0\n",
       "Sangareddy                        0\n",
       "Siddipet                          0\n",
       "Suryapet                          0\n",
       "Vikarabad                         0\n",
       "Jagtial                           0\n",
       "Rajanna Sircilla                  0\n",
       "Yadadri Bhongir                   0\n",
       "Name: visitors, dtype: Int64"
      ]
     },
     "execution_count": 13,
     "metadata": {},
     "output_type": "execute_result"
    }
   ],
   "source": [
    "gfv = gfv.sort_values(ascending=False)\n",
    "gfv"
   ]
  },
  {
   "cell_type": "code",
   "execution_count": 14,
   "id": "71692b66",
   "metadata": {},
   "outputs": [],
   "source": [
    "dfd=pd.read_csv('domestic_visitors.csv')"
   ]
  },
  {
   "cell_type": "code",
   "execution_count": 16,
   "id": "75a68bac",
   "metadata": {},
   "outputs": [
    {
     "data": {
      "text/plain": [
       "(1512, 5)"
      ]
     },
     "execution_count": 16,
     "metadata": {},
     "output_type": "execute_result"
    }
   ],
   "source": [
    "dfd.shape"
   ]
  },
  {
   "cell_type": "code",
   "execution_count": 18,
   "id": "b3045ea3",
   "metadata": {},
   "outputs": [
    {
     "data": {
      "text/plain": [
       "district    0\n",
       "date        0\n",
       "month       0\n",
       "year        0\n",
       "visitors    0\n",
       "dtype: int64"
      ]
     },
     "execution_count": 18,
     "metadata": {},
     "output_type": "execute_result"
    }
   ],
   "source": [
    "dfd.isnull().sum()"
   ]
  },
  {
   "cell_type": "code",
   "execution_count": 41,
   "id": "f99f06c4",
   "metadata": {},
   "outputs": [
    {
     "data": {
      "text/html": [
       "<div>\n",
       "<style scoped>\n",
       "    .dataframe tbody tr th:only-of-type {\n",
       "        vertical-align: middle;\n",
       "    }\n",
       "\n",
       "    .dataframe tbody tr th {\n",
       "        vertical-align: top;\n",
       "    }\n",
       "\n",
       "    .dataframe thead th {\n",
       "        text-align: right;\n",
       "    }\n",
       "</style>\n",
       "<table border=\"1\" class=\"dataframe\">\n",
       "  <thead>\n",
       "    <tr style=\"text-align: right;\">\n",
       "      <th></th>\n",
       "      <th>district</th>\n",
       "      <th>visitors</th>\n",
       "    </tr>\n",
       "  </thead>\n",
       "  <tbody>\n",
       "    <tr>\n",
       "      <th>2</th>\n",
       "      <td>Hyderabad</td>\n",
       "      <td>83900960</td>\n",
       "    </tr>\n",
       "    <tr>\n",
       "      <th>23</th>\n",
       "      <td>Rajanna Sircilla</td>\n",
       "      <td>41763276</td>\n",
       "    </tr>\n",
       "    <tr>\n",
       "      <th>31</th>\n",
       "      <td>Warangal (Urban)</td>\n",
       "      <td>30726603</td>\n",
       "    </tr>\n",
       "    <tr>\n",
       "      <th>32</th>\n",
       "      <td>Yadadri Bhongir</td>\n",
       "      <td>26893080</td>\n",
       "    </tr>\n",
       "    <tr>\n",
       "      <th>1</th>\n",
       "      <td>Bhadradri Kothagudem</td>\n",
       "      <td>21600962</td>\n",
       "    </tr>\n",
       "    <tr>\n",
       "      <th>14</th>\n",
       "      <td>Medak</td>\n",
       "      <td>20542639</td>\n",
       "    </tr>\n",
       "    <tr>\n",
       "      <th>5</th>\n",
       "      <td>Jayashankar Bhoopalpally</td>\n",
       "      <td>19632865</td>\n",
       "    </tr>\n",
       "    <tr>\n",
       "      <th>12</th>\n",
       "      <td>Mahbubnagar</td>\n",
       "      <td>17180118</td>\n",
       "    </tr>\n",
       "    <tr>\n",
       "      <th>20</th>\n",
       "      <td>Nirmal</td>\n",
       "      <td>13315796</td>\n",
       "    </tr>\n",
       "    <tr>\n",
       "      <th>3</th>\n",
       "      <td>Jagtial</td>\n",
       "      <td>11303514</td>\n",
       "    </tr>\n",
       "    <tr>\n",
       "      <th>25</th>\n",
       "      <td>Sangareddy</td>\n",
       "      <td>10424510</td>\n",
       "    </tr>\n",
       "    <tr>\n",
       "      <th>8</th>\n",
       "      <td>Karimnagar</td>\n",
       "      <td>9462383</td>\n",
       "    </tr>\n",
       "    <tr>\n",
       "      <th>9</th>\n",
       "      <td>Khammam</td>\n",
       "      <td>9378315</td>\n",
       "    </tr>\n",
       "    <tr>\n",
       "      <th>17</th>\n",
       "      <td>Nagarkurnool</td>\n",
       "      <td>7424355</td>\n",
       "    </tr>\n",
       "    <tr>\n",
       "      <th>0</th>\n",
       "      <td>Adilabad</td>\n",
       "      <td>7321575</td>\n",
       "    </tr>\n",
       "    <tr>\n",
       "      <th>6</th>\n",
       "      <td>Jogulamba Gadwal</td>\n",
       "      <td>6813340</td>\n",
       "    </tr>\n",
       "    <tr>\n",
       "      <th>18</th>\n",
       "      <td>Nalgonda</td>\n",
       "      <td>6401933</td>\n",
       "    </tr>\n",
       "    <tr>\n",
       "      <th>26</th>\n",
       "      <td>Siddipet</td>\n",
       "      <td>5775285</td>\n",
       "    </tr>\n",
       "    <tr>\n",
       "      <th>16</th>\n",
       "      <td>Mulugu</td>\n",
       "      <td>1819800</td>\n",
       "    </tr>\n",
       "    <tr>\n",
       "      <th>29</th>\n",
       "      <td>Wanaparthy</td>\n",
       "      <td>890078</td>\n",
       "    </tr>\n",
       "    <tr>\n",
       "      <th>13</th>\n",
       "      <td>Mancherial</td>\n",
       "      <td>867242</td>\n",
       "    </tr>\n",
       "    <tr>\n",
       "      <th>4</th>\n",
       "      <td>Jangaon</td>\n",
       "      <td>826280</td>\n",
       "    </tr>\n",
       "    <tr>\n",
       "      <th>30</th>\n",
       "      <td>Warangal (Rural)</td>\n",
       "      <td>819162</td>\n",
       "    </tr>\n",
       "    <tr>\n",
       "      <th>11</th>\n",
       "      <td>Mahabubabad</td>\n",
       "      <td>600697</td>\n",
       "    </tr>\n",
       "    <tr>\n",
       "      <th>19</th>\n",
       "      <td>Narayanapet</td>\n",
       "      <td>389250</td>\n",
       "    </tr>\n",
       "    <tr>\n",
       "      <th>21</th>\n",
       "      <td>Nizamabad</td>\n",
       "      <td>116147</td>\n",
       "    </tr>\n",
       "    <tr>\n",
       "      <th>10</th>\n",
       "      <td>Komaram Bheem Asifabad</td>\n",
       "      <td>92734</td>\n",
       "    </tr>\n",
       "    <tr>\n",
       "      <th>22</th>\n",
       "      <td>Peddapalli</td>\n",
       "      <td>56977</td>\n",
       "    </tr>\n",
       "    <tr>\n",
       "      <th>7</th>\n",
       "      <td>Kamareddy</td>\n",
       "      <td>1773</td>\n",
       "    </tr>\n",
       "    <tr>\n",
       "      <th>15</th>\n",
       "      <td>Medchal</td>\n",
       "      <td>0</td>\n",
       "    </tr>\n",
       "    <tr>\n",
       "      <th>28</th>\n",
       "      <td>Vikarabad</td>\n",
       "      <td>0</td>\n",
       "    </tr>\n",
       "    <tr>\n",
       "      <th>27</th>\n",
       "      <td>Suryapet</td>\n",
       "      <td>0</td>\n",
       "    </tr>\n",
       "    <tr>\n",
       "      <th>24</th>\n",
       "      <td>Ranga Reddy</td>\n",
       "      <td>0</td>\n",
       "    </tr>\n",
       "  </tbody>\n",
       "</table>\n",
       "</div>"
      ],
      "text/plain": [
       "                    district  visitors\n",
       "2                  Hyderabad  83900960\n",
       "23         Rajanna Sircilla   41763276\n",
       "31          Warangal (Urban)  30726603\n",
       "32           Yadadri Bhongir  26893080\n",
       "1      Bhadradri Kothagudem   21600962\n",
       "14                    Medak   20542639\n",
       "5   Jayashankar Bhoopalpally  19632865\n",
       "12               Mahbubnagar  17180118\n",
       "20                    Nirmal  13315796\n",
       "3                   Jagtial   11303514\n",
       "25               Sangareddy   10424510\n",
       "8                Karimnagar    9462383\n",
       "9                    Khammam   9378315\n",
       "17             Nagarkurnool    7424355\n",
       "0                   Adilabad   7321575\n",
       "6          Jogulamba Gadwal    6813340\n",
       "18                  Nalgonda   6401933\n",
       "26                  Siddipet   5775285\n",
       "16                    Mulugu   1819800\n",
       "29               Wanaparthy     890078\n",
       "13                Mancherial    867242\n",
       "4                   Jangaon     826280\n",
       "30          Warangal (Rural)    819162\n",
       "11              Mahabubabad     600697\n",
       "19               Narayanapet    389250\n",
       "21                 Nizamabad    116147\n",
       "10    Komaram Bheem Asifabad     92734\n",
       "22                Peddapalli     56977\n",
       "7                 Kamareddy       1773\n",
       "15                  Medchal          0\n",
       "28                 Vikarabad         0\n",
       "27                  Suryapet         0\n",
       "24               Ranga Reddy         0"
      ]
     },
     "execution_count": 41,
     "metadata": {},
     "output_type": "execute_result"
    }
   ],
   "source": [
    "gvd=dfd.groupby('district')['visitors'].sum().reset_index().sort_values(by='visitors',ascending=False)\n",
    "gvd"
   ]
  },
  {
   "cell_type": "code",
   "execution_count": 42,
   "id": "7ec3f660",
   "metadata": {},
   "outputs": [],
   "source": [
    "#gvd=gvd.sort_values(ascending=False)\n",
    "#gvd"
   ]
  },
  {
   "cell_type": "code",
   "execution_count": 46,
   "id": "ebeced21",
   "metadata": {},
   "outputs": [
    {
     "data": {
      "image/png": "[encoded data removed]",
      "text/plain": [
       "<Figure size 1080x432 with 1 Axes>"
      ]
     },
     "metadata": {},
     "output_type": "display_data"
    }
   ],
   "source": [
    "sns.set_style('whitegrid')\n",
    "plt.figure(figsize=(15,6))\n",
    "sns.barplot(x='district', y='visitors', data=gvd, palette='Blues_r')\n",
    "plt.xlabel('District', fontsize=14)\n",
    "plt.ylabel('Visitors', fontsize=14)\n",
    "plt.title('Total Visitors by District Domestic', fontsize=16)\n",
    "plt.xticks(rotation=90)\n",
    "plt.show()"
   ]
  },
  {
   "cell_type": "code",
   "execution_count": 47,
   "id": "b944b023",
   "metadata": {},
   "outputs": [
    {
     "data": {
      "image/png": "[encoded data removed]",
      "text/plain": [
       "<Figure size 1080x432 with 1 Axes>"
      ]
     },
     "metadata": {},
     "output_type": "display_data"
    }
   ],
   "source": [
    "sns.set_style('whitegrid')\n",
    "plt.figure(figsize=(15,6))\n",
    "sns.barplot(x='district', y='visitors', data=gfv, palette='Blues_r')\n",
    "plt.xlabel('District', fontsize=14)\n",
    "plt.ylabel('Visitors', fontsize=14)\n",
    "plt.title('Total Visitors by District Foreign', fontsize=16)\n",
    "plt.xticks(rotation=90)\n",
    "plt.show()"
   ]
  },
  {
   "cell_type": "code",
   "execution_count": 1,
   "id": "7ef48e4c",
   "metadata": {},
   "outputs": [
    {
     "name": "stdout",
     "output_type": "stream",
     "text": [
      "Requirement already satisfied: nbconvert[webpdf] in c:\\users\\sivashanmugavadivel\\appdata\\local\\programs\\python\\python39\\lib\\site-packages (6.5.0)Note: you may need to restart the kernel to use updated packages.\n"
     ]
    },
    {
     "name": "stderr",
     "output_type": "stream",
     "text": [
      "\n",
      "[notice] A new release of pip available: 22.3.1 -> 23.1.2\n",
      "[notice] To update, run: c:\\users\\sivashanmugavadivel\\appdata\\local\\programs\\python\\python39\\python.exe -m pip install --upgrade pip\n"
     ]
    },
    {
     "name": "stdout",
     "output_type": "stream",
     "text": [
      "\n",
      "Requirement already satisfied: jupyter-core>=4.7 in c:\\users\\sivashanmugavadivel\\appdata\\local\\programs\\python\\python39\\lib\\site-packages (from nbconvert[webpdf]) (4.9.2)\n",
      "Requirement already satisfied: bleach in c:\\users\\sivashanmugavadivel\\appdata\\local\\programs\\python\\python39\\lib\\site-packages (from nbconvert[webpdf]) (5.0.0)\n",
      "Requirement already satisfied: pandocfilters>=1.4.1 in c:\\users\\sivashanmugavadivel\\appdata\\local\\programs\\python\\python39\\lib\\site-packages (from nbconvert[webpdf]) (1.5.0)\n",
      "Requirement already satisfied: jupyterlab-pygments in c:\\users\\sivashanmugavadivel\\appdata\\local\\programs\\python\\python39\\lib\\site-packages (from nbconvert[webpdf]) (0.2.2)\n",
      "Requirement already satisfied: packaging in c:\\users\\sivashanmugavadivel\\appdata\\local\\programs\\python\\python39\\lib\\site-packages (from nbconvert[webpdf]) (21.3)\n",
      "Requirement already satisfied: MarkupSafe>=2.0 in c:\\users\\sivashanmugavadivel\\appdata\\local\\programs\\python\\python39\\lib\\site-packages (from nbconvert[webpdf]) (2.1.1)\n",
      "Requirement already satisfied: traitlets>=5.0 in c:\\users\\sivashanmugavadivel\\appdata\\local\\programs\\python\\python39\\lib\\site-packages (from nbconvert[webpdf]) (5.1.1)\n",
      "Requirement already satisfied: beautifulsoup4 in c:\\users\\sivashanmugavadivel\\appdata\\local\\programs\\python\\python39\\lib\\site-packages (from nbconvert[webpdf]) (4.11.1)\n",
      "Requirement already satisfied: nbclient>=0.5.0 in c:\\users\\sivashanmugavadivel\\appdata\\local\\programs\\python\\python39\\lib\\site-packages (from nbconvert[webpdf]) (0.6.0)\n",
      "Requirement already satisfied: defusedxml in c:\\users\\sivashanmugavadivel\\appdata\\local\\programs\\python\\python39\\lib\\site-packages (from nbconvert[webpdf]) (0.7.1)\n",
      "Requirement already satisfied: nbformat>=5.1 in c:\\users\\sivashanmugavadivel\\appdata\\local\\programs\\python\\python39\\lib\\site-packages (from nbconvert[webpdf]) (5.3.0)\n",
      "Requirement already satisfied: mistune<2,>=0.8.1 in c:\\users\\sivashanmugavadivel\\appdata\\local\\programs\\python\\python39\\lib\\site-packages (from nbconvert[webpdf]) (0.8.4)\n",
      "Requirement already satisfied: entrypoints>=0.2.2 in c:\\users\\sivashanmugavadivel\\appdata\\local\\programs\\python\\python39\\lib\\site-packages (from nbconvert[webpdf]) (0.4)\n",
      "Requirement already satisfied: tinycss2 in c:\\users\\sivashanmugavadivel\\appdata\\local\\programs\\python\\python39\\lib\\site-packages (from nbconvert[webpdf]) (1.1.1)\n",
      "Requirement already satisfied: jinja2>=3.0 in c:\\users\\sivashanmugavadivel\\appdata\\local\\programs\\python\\python39\\lib\\site-packages (from nbconvert[webpdf]) (3.1.1)\n",
      "Requirement already satisfied: pygments>=2.4.1 in c:\\users\\sivashanmugavadivel\\appdata\\local\\programs\\python\\python39\\lib\\site-packages (from nbconvert[webpdf]) (2.11.2)\n",
      "Requirement already satisfied: pyppeteer<1.1,>=1 in c:\\users\\sivashanmugavadivel\\appdata\\local\\programs\\python\\python39\\lib\\site-packages (from nbconvert[webpdf]) (1.0.2)\n",
      "Requirement already satisfied: pywin32>=1.0 in c:\\users\\sivashanmugavadivel\\appdata\\local\\programs\\python\\python39\\lib\\site-packages (from jupyter-core>=4.7->nbconvert[webpdf]) (303)\n",
      "Requirement already satisfied: jupyter-client>=6.1.5 in c:\\users\\sivashanmugavadivel\\appdata\\local\\programs\\python\\python39\\lib\\site-packages (from nbclient>=0.5.0->nbconvert[webpdf]) (7.2.2)\n",
      "Requirement already satisfied: nest-asyncio in c:\\users\\sivashanmugavadivel\\appdata\\local\\programs\\python\\python39\\lib\\site-packages (from nbclient>=0.5.0->nbconvert[webpdf]) (1.5.5)\n",
      "Requirement already satisfied: fastjsonschema in c:\\users\\sivashanmugavadivel\\appdata\\local\\programs\\python\\python39\\lib\\site-packages (from nbformat>=5.1->nbconvert[webpdf]) (2.15.3)\n",
      "Requirement already satisfied: jsonschema>=2.6 in c:\\users\\sivashanmugavadivel\\appdata\\local\\programs\\python\\python39\\lib\\site-packages (from nbformat>=5.1->nbconvert[webpdf]) (4.4.0)\n",
      "Requirement already satisfied: importlib-metadata>=1.4 in c:\\users\\sivashanmugavadivel\\appdata\\local\\programs\\python\\python39\\lib\\site-packages (from pyppeteer<1.1,>=1->nbconvert[webpdf]) (4.11.4)\n",
      "Requirement already satisfied: pyee<9.0.0,>=8.1.0 in c:\\users\\sivashanmugavadivel\\appdata\\local\\programs\\python\\python39\\lib\\site-packages (from pyppeteer<1.1,>=1->nbconvert[webpdf]) (8.2.2)\n",
      "Requirement already satisfied: appdirs<2.0.0,>=1.4.3 in c:\\users\\sivashanmugavadivel\\appdata\\local\\programs\\python\\python39\\lib\\site-packages (from pyppeteer<1.1,>=1->nbconvert[webpdf]) (1.4.4)\n",
      "Requirement already satisfied: urllib3<2.0.0,>=1.25.8 in c:\\users\\sivashanmugavadivel\\appdata\\local\\programs\\python\\python39\\lib\\site-packages (from pyppeteer<1.1,>=1->nbconvert[webpdf]) (1.26.9)\n",
      "Requirement already satisfied: websockets<11.0,>=10.0 in c:\\users\\sivashanmugavadivel\\appdata\\local\\programs\\python\\python39\\lib\\site-packages (from pyppeteer<1.1,>=1->nbconvert[webpdf]) (10.4)\n",
      "Requirement already satisfied: tqdm<5.0.0,>=4.42.1 in c:\\users\\sivashanmugavadivel\\appdata\\local\\programs\\python\\python39\\lib\\site-packages (from pyppeteer<1.1,>=1->nbconvert[webpdf]) (4.64.0)\n",
      "Requirement already satisfied: certifi>=2021 in c:\\users\\sivashanmugavadivel\\appdata\\local\\programs\\python\\python39\\lib\\site-packages (from pyppeteer<1.1,>=1->nbconvert[webpdf]) (2021.10.8)\n",
      "Requirement already satisfied: soupsieve>1.2 in c:\\users\\sivashanmugavadivel\\appdata\\local\\programs\\python\\python39\\lib\\site-packages (from beautifulsoup4->nbconvert[webpdf]) (2.3.2.post1)\n",
      "Requirement already satisfied: six>=1.9.0 in c:\\users\\sivashanmugavadivel\\appdata\\local\\programs\\python\\python39\\lib\\site-packages (from bleach->nbconvert[webpdf]) (1.16.0)\n",
      "Requirement already satisfied: webencodings in c:\\users\\sivashanmugavadivel\\appdata\\local\\programs\\python\\python39\\lib\\site-packages (from bleach->nbconvert[webpdf]) (0.5.1)\n",
      "Requirement already satisfied: pyparsing!=3.0.5,>=2.0.2 in c:\\users\\sivashanmugavadivel\\appdata\\local\\programs\\python\\python39\\lib\\site-packages (from packaging->nbconvert[webpdf]) (3.0.8)\n",
      "Requirement already satisfied: zipp>=0.5 in c:\\users\\sivashanmugavadivel\\appdata\\local\\programs\\python\\python39\\lib\\site-packages (from importlib-metadata>=1.4->pyppeteer<1.1,>=1->nbconvert[webpdf]) (3.8.0)\n",
      "Requirement already satisfied: attrs>=17.4.0 in c:\\users\\sivashanmugavadivel\\appdata\\local\\programs\\python\\python39\\lib\\site-packages (from jsonschema>=2.6->nbformat>=5.1->nbconvert[webpdf]) (21.4.0)\n",
      "Requirement already satisfied: pyrsistent!=0.17.0,!=0.17.1,!=0.17.2,>=0.14.0 in c:\\users\\sivashanmugavadivel\\appdata\\local\\programs\\python\\python39\\lib\\site-packages (from jsonschema>=2.6->nbformat>=5.1->nbconvert[webpdf]) (0.18.1)\n",
      "Requirement already satisfied: pyzmq>=22.3 in c:\\users\\sivashanmugavadivel\\appdata\\local\\programs\\python\\python39\\lib\\site-packages (from jupyter-client>=6.1.5->nbclient>=0.5.0->nbconvert[webpdf]) (22.3.0)\n",
      "Requirement already satisfied: tornado>=6.0 in c:\\users\\sivashanmugavadivel\\appdata\\local\\programs\\python\\python39\\lib\\site-packages (from jupyter-client>=6.1.5->nbclient>=0.5.0->nbconvert[webpdf]) (6.1)\n",
      "Requirement already satisfied: python-dateutil>=2.8.2 in c:\\users\\sivashanmugavadivel\\appdata\\local\\programs\\python\\python39\\lib\\site-packages (from jupyter-client>=6.1.5->nbclient>=0.5.0->nbconvert[webpdf]) (2.8.2)\n",
      "Requirement already satisfied: colorama in c:\\users\\sivashanmugavadivel\\appdata\\roaming\\python\\python39\\site-packages (from tqdm<5.0.0,>=4.42.1->pyppeteer<1.1,>=1->nbconvert[webpdf]) (0.4.4)\n"
     ]
    }
   ],
   "source": [
    "pip install nbconvert[webpdf]\n"
   ]
  },
  {
   "cell_type": "code",
   "execution_count": 3,
   "id": "e25bc629",
   "metadata": {},
   "outputs": [
    {
     "ename": "SyntaxError",
     "evalue": "invalid syntax (146464827.py, line 1)",
     "output_type": "error",
     "traceback": [
      "\u001b[1;36m  Input \u001b[1;32mIn [3]\u001b[1;36m\u001b[0m\n\u001b[1;33m    jupyter nbconvert --to webpdf --allow-chromium-download Domestic_and_Foreign_Visitors_Analysis.ipynb\u001b[0m\n\u001b[1;37m            ^\u001b[0m\n\u001b[1;31mSyntaxError\u001b[0m\u001b[1;31m:\u001b[0m invalid syntax\n"
     ]
    }
   ],
   "source": [
    "jupyter nbconvert --to webpdf --allow-chromium-download Domestic_and_Foreign_Visitors_Analysis.ipynb\n"
   ]
  },
  {
   "cell_type": "code",
   "execution_count": 4,
   "id": "f9401957",
   "metadata": {},
   "outputs": [
    {
     "ename": "SyntaxError",
     "evalue": "invalid syntax (4000120487.py, line 1)",
     "output_type": "error",
     "traceback": [
      "\u001b[1;36m  Input \u001b[1;32mIn [4]\u001b[1;36m\u001b[0m\n\u001b[1;33m    jupyter nbconvert --to webpdf --no-input Domestic_and_Foreign_Visitors_Analysis-file.ipynb\u001b[0m\n\u001b[1;37m            ^\u001b[0m\n\u001b[1;31mSyntaxError\u001b[0m\u001b[1;31m:\u001b[0m invalid syntax\n"
     ]
    }
   ],
   "source": [
    "jupyter nbconvert --to webpdf --no-input Domestic_and_Foreign_Visitors_Analysis-file.ipynb"
   ]
  },
  {
   "cell_type": "code",
   "execution_count": null,
   "id": "820c8050",
   "metadata": {},
   "outputs": [],
   "source": []
  }
 ],
 "metadata": {
  "kernelspec": {
   "display_name": "Python 3 (ipykernel)",
   "language": "python",
   "name": "python3"
  },
  "language_info": {
   "codemirror_mode": {
    "name": "ipython",
    "version": 3
   },
   "file_extension": ".py",
   "mimetype": "text/x-python",
   "name": "python",
   "nbconvert_exporter": "python",
   "pygments_lexer": "ipython3",
   "version": "3.9.5"
  }
 },
 "nbformat": 4,
 "nbformat_minor": 5
}
